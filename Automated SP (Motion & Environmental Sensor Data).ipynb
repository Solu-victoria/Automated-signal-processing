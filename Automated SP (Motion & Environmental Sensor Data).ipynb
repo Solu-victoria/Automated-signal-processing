{
 "cells": [
  {
   "cell_type": "markdown",
   "id": "60997ddb",
   "metadata": {
    "papermill": {
     "duration": 0.005384,
     "end_time": "2025-01-18T11:00:24.395165",
     "exception": false,
     "start_time": "2025-01-18T11:00:24.389781",
     "status": "completed"
    },
    "tags": []
   },
   "source": [
    "# **Automated Signal Processing Pipeline for IoT Sensor Data: Applications in Motion and Environmental Sensors**\n",
    "**By Victoria Ofuasia**\n"
   ]
  },
  {
   "cell_type": "markdown",
   "id": "b8cca046",
   "metadata": {
    "papermill": {
     "duration": 0.004249,
     "end_time": "2025-01-18T11:00:24.404234",
     "exception": false,
     "start_time": "2025-01-18T11:00:24.399985",
     "status": "completed"
    },
    "tags": []
   },
   "source": [
    "# **Description:**  \n",
    "This project presents a versatile Python-based signal processing pipeline tailored for analyzing and filtering data from IoT sensors, including motion sensors. The pipeline is flexible and supports various numeric time-series data, such as temperature, motion, pressure, or other sensor outputs, making it ideal for a wide range of IoT applications.\n",
    "\n",
    "### **Key Features:**  \n",
    "- **Data Loading**: Reads data from CSV files and extracts the relevant column for processing, with support for customizable data formats.  \n",
    "- **Preprocessing**: Normalizes the input signal to a range between -1 and 1, ensuring uniformity and preparing it for further analysis.  \n",
    "- **Filtering**: Implements a low-pass Butterworth filter to remove noise and highlight key signal components, such as sustained motion or trends in sensor readings.  \n",
    "- **Frequency Analysis**: Performs Fast Fourier Transform (FFT) to reveal frequency-domain characteristics of the filtered signal.  \n",
    "- **Visualization**: Produces clear plots of the original signal, filtered signal, and frequency spectrum for comprehensive analysis.\n",
    "\n",
    "### **Libraries/Tools Used:**  \n",
    "- **NumPy**: Facilitates numerical operations and signal processing.  \n",
    "- **Pandas**: Efficiently loads and processes CSV data.  \n",
    "- **SciPy**: Provides tools like the Butterworth filter for signal processing tasks.  \n",
    "- **Matplotlib**: Generates intuitive visualizations of signals and frequency spectra.\n",
    "\n",
    "### **Adaptability and Automation:**  \n",
    "- Capable of handling any numeric time-series data, including motion sensor data like acceleration or velocity readings.  \n",
    "- Automates the signal processing steps, minimizing manual effort and errors.  \n",
    "- Modular design allows for easy customization and integration into larger IoT systems.\n",
    "\n",
    "### **Applications:**  \n",
    "- **Motion Analysis**: Detect and analyze movement patterns or vibrations in systems equipped with motion sensors.  \n",
    "- **Environmental Monitoring**: Process data from temperature, pressure, or humidity sensors for trend analysis.  \n",
    "- **Healthcare Analytics**: Analyze wearable device data to monitor motion or physiological parameters.  \n",
    "- **Industrial IoT**: Evaluate sensor data in automated systems to detect anomalies or optimize performance.  \n",
    "\n",
    "This pipeline is a robust solution for processing motion sensor data or any IoT-based numeric data, providing critical insights through automation and visualization."
   ]
  },
  {
   "cell_type": "markdown",
   "id": "7ebe6967",
   "metadata": {
    "papermill": {
     "duration": 0.0042,
     "end_time": "2025-01-18T11:00:24.413106",
     "exception": false,
     "start_time": "2025-01-18T11:00:24.408906",
     "status": "completed"
    },
    "tags": []
   },
   "source": [
    "# Setup  \n",
    "\n",
    "This setup configures the Python environment with essential libraries for signal processing and analysis. The environment is based on the `kaggle/python` Docker image, which comes with a wide range of analytics tools pre-installed. \n"
   ]
  },
  {
   "cell_type": "code",
   "execution_count": 1,
   "id": "936ce6d3",
   "metadata": {
    "_cell_guid": "b1076dfc-b9ad-4769-8c92-a6c4dae69d19",
    "_uuid": "8f2839f25d086af736a60e9eeb907d3b93b6e0e5",
    "execution": {
     "iopub.execute_input": "2025-01-18T11:00:24.424111Z",
     "iopub.status.busy": "2025-01-18T11:00:24.423640Z",
     "iopub.status.idle": "2025-01-18T11:00:26.924136Z",
     "shell.execute_reply": "2025-01-18T11:00:26.922937Z"
    },
    "papermill": {
     "duration": 2.508626,
     "end_time": "2025-01-18T11:00:26.926324",
     "exception": false,
     "start_time": "2025-01-18T11:00:24.417698",
     "status": "completed"
    },
    "tags": []
   },
   "outputs": [],
   "source": [
    "# This Python 3 environment comes with many helpful analytics libraries installed\n",
    "# It is defined by the kaggle/python Docker image: https://github.com/kaggle/docker-python\n",
    "\n",
    "%matplotlib inline\n",
    "import numpy as np # preprocess, analyse signal\n",
    "import pandas as pd # load signal\n",
    "import matplotlib.pyplot as plt # for visualization\n",
    "from scipy.signal import butter, lfilter # apply filter to signal\n"
   ]
  },
  {
   "cell_type": "markdown",
   "id": "1f50ba16",
   "metadata": {
    "papermill": {
     "duration": 0.004459,
     "end_time": "2025-01-18T11:00:26.935971",
     "exception": false,
     "start_time": "2025-01-18T11:00:26.931512",
     "status": "completed"
    },
    "tags": []
   },
   "source": [
    "# Kaggle Dataset Access  \n",
    "\n",
    "In this setup, the input data files are stored in the read-only `../input/` directory. You can access these files to load your datasets. The following code can be used to list all the files (datasets) in the input directory:\n",
    "\n",
    "```python\n",
    "import os\n",
    "for dirname, _, filenames in os.walk('/kaggle/input'):\n",
    "    for filename in filenames:\n",
    "        print(os.path.join(dirname, filename))\n",
    "```\n",
    "**Note: If you are not running this project on Kaggle, ignore this.**"
   ]
  },
  {
   "cell_type": "code",
   "execution_count": 2,
   "id": "cb3ae8b9",
   "metadata": {
    "execution": {
     "iopub.execute_input": "2025-01-18T11:00:26.947163Z",
     "iopub.status.busy": "2025-01-18T11:00:26.946502Z",
     "iopub.status.idle": "2025-01-18T11:00:26.951104Z",
     "shell.execute_reply": "2025-01-18T11:00:26.949937Z"
    },
    "papermill": {
     "duration": 0.012178,
     "end_time": "2025-01-18T11:00:26.952954",
     "exception": false,
     "start_time": "2025-01-18T11:00:26.940776",
     "status": "completed"
    },
    "tags": []
   },
   "outputs": [],
   "source": [
    "# Input data files are available in the read-only \"../input/\" directory\n",
    "# For example, running this (by clicking run or pressing Shift+Enter) will list all files under the input directory\n",
    "\n",
    "# import os\n",
    "# for dirname, _, filenames in os.walk('/kaggle/input'):\n",
    "#     for filename in filenames:\n",
    "#         print(os.path.join(dirname, filename))\n",
    "\n",
    "# You can write up to 20GB to the current directory (/kaggle/working/) that gets preserved as output when you create a version using \"Save & Run All\" \n",
    "# You can also write temporary files to /kaggle/temp/, but they won't be saved outside of the current session"
   ]
  },
  {
   "cell_type": "markdown",
   "id": "454a657a",
   "metadata": {
    "papermill": {
     "duration": 0.004462,
     "end_time": "2025-01-18T11:00:26.962234",
     "exception": false,
     "start_time": "2025-01-18T11:00:26.957772",
     "status": "completed"
    },
    "tags": []
   },
   "source": [
    "# Data Input  \n",
    "This section defines the input for processing either **motion sensor data** or **environmental sensor data**. You can customize the dataset path and column name at any time to suit your needs.\n",
    "\n",
    "- **Dataset Path**: Specify the path to your sensor data file.  \n",
    "- **Column to Process**: Define the specific column you want to analyze from the dataset (e.g., 'attitude.pitch' for motion sensor or 'humidity' for environmental sensor).\n"
   ]
  },
  {
   "cell_type": "code",
   "execution_count": 3,
   "id": "c28af63f",
   "metadata": {
    "execution": {
     "iopub.execute_input": "2025-01-18T11:00:26.973955Z",
     "iopub.status.busy": "2025-01-18T11:00:26.973523Z",
     "iopub.status.idle": "2025-01-18T11:00:26.977758Z",
     "shell.execute_reply": "2025-01-18T11:00:26.976599Z"
    },
    "papermill": {
     "duration": 0.013046,
     "end_time": "2025-01-18T11:00:26.979832",
     "exception": false,
     "start_time": "2025-01-18T11:00:26.966786",
     "status": "completed"
    },
    "tags": []
   },
   "outputs": [],
   "source": [
    "# #Example 1: Motion sensor dataset\n",
    "# dataset_path = '/kaggle/input/motionsense-dataset/A_DeviceMotion_data/A_DeviceMotion_data/dws_1/sub_14.csv'\n",
    "# column_to_process = 'attitude.pitch'"
   ]
  },
  {
   "cell_type": "code",
   "execution_count": 4,
   "id": "4848a932",
   "metadata": {
    "execution": {
     "iopub.execute_input": "2025-01-18T11:00:26.991004Z",
     "iopub.status.busy": "2025-01-18T11:00:26.990557Z",
     "iopub.status.idle": "2025-01-18T11:00:26.994968Z",
     "shell.execute_reply": "2025-01-18T11:00:26.993896Z"
    },
    "papermill": {
     "duration": 0.011866,
     "end_time": "2025-01-18T11:00:26.996711",
     "exception": false,
     "start_time": "2025-01-18T11:00:26.984845",
     "status": "completed"
    },
    "tags": []
   },
   "outputs": [],
   "source": [
    "# Example 2: Environmental sensor dataset\n",
    "dataset_path = '/kaggle/input/environmental-sensor-data-132k/iot_telemetry_data.csv'\n",
    "column_to_process = 'co'"
   ]
  },
  {
   "cell_type": "markdown",
   "id": "efc555f8",
   "metadata": {
    "papermill": {
     "duration": 0.006803,
     "end_time": "2025-01-18T11:00:27.008511",
     "exception": false,
     "start_time": "2025-01-18T11:00:27.001708",
     "status": "completed"
    },
    "tags": []
   },
   "source": [
    "# Automated Steps"
   ]
  },
  {
   "cell_type": "markdown",
   "id": "0616d64b",
   "metadata": {
    "papermill": {
     "duration": 0.004886,
     "end_time": "2025-01-18T11:00:27.018102",
     "exception": false,
     "start_time": "2025-01-18T11:00:27.013216",
     "status": "completed"
    },
    "tags": []
   },
   "source": [
    "## Step 1: Load Signal Data\n",
    "\n",
    "This function `load_signal` is designed to load signal data from a CSV file. It takes two parameters:\n",
    "- `file_path`: the path to the CSV file containing the dataset.\n",
    "- `signal_column`: the name of the column in the CSV file that holds the signal data to be processed.\n",
    "\n",
    "Using the `pandas` library, the function reads the CSV file, extracts the values from the specified column, and returns them as a NumPy array, which is used for further signal processing tasks.\n"
   ]
  },
  {
   "cell_type": "code",
   "execution_count": 5,
   "id": "872b1edf",
   "metadata": {
    "execution": {
     "iopub.execute_input": "2025-01-18T11:00:27.029590Z",
     "iopub.status.busy": "2025-01-18T11:00:27.029154Z",
     "iopub.status.idle": "2025-01-18T11:00:27.034317Z",
     "shell.execute_reply": "2025-01-18T11:00:27.033186Z"
    },
    "papermill": {
     "duration": 0.013297,
     "end_time": "2025-01-18T11:00:27.036219",
     "exception": false,
     "start_time": "2025-01-18T11:00:27.022922",
     "status": "completed"
    },
    "tags": []
   },
   "outputs": [],
   "source": [
    "# Step 1: Load Signal Data\n",
    "def load_signal(file_path, signal_column):\n",
    "    # Load the CSV file using pandas\n",
    "    data = pd.read_csv(file_path)\n",
    "    signal = data[signal_column].values\n",
    "\n",
    "    return signal"
   ]
  },
  {
   "cell_type": "markdown",
   "id": "31cf6774",
   "metadata": {
    "papermill": {
     "duration": 0.004682,
     "end_time": "2025-01-18T11:00:27.045638",
     "exception": false,
     "start_time": "2025-01-18T11:00:27.040956",
     "status": "completed"
    },
    "tags": []
   },
   "source": [
    "## Step 2: Preprocess Signal\n",
    "\n",
    "This function processes the signal to prepare it for further analysis:\n",
    "\n",
    "1. **Remove DC Component**:  \n",
    "   The mean of the signal is subtracted from each data point, removing the **DC component** (the average value), leaving only the **AC (alternating)** components.\n",
    "\n",
    "2. **Normalization**:  \n",
    "   The signal is normalized between -1 and 1. This is done by scaling the signal so that its minimum value maps to -1 and its maximum value maps to 1, ensuring consistency across signals and improving the performance of analysis.\n",
    "\n",
    "This preprocessing step centers and scales the signal for more accurate analysis and processing.\n"
   ]
  },
  {
   "cell_type": "code",
   "execution_count": 6,
   "id": "d5d6bdcb",
   "metadata": {
    "execution": {
     "iopub.execute_input": "2025-01-18T11:00:27.056553Z",
     "iopub.status.busy": "2025-01-18T11:00:27.056097Z",
     "iopub.status.idle": "2025-01-18T11:00:27.061486Z",
     "shell.execute_reply": "2025-01-18T11:00:27.060162Z"
    },
    "papermill": {
     "duration": 0.013225,
     "end_time": "2025-01-18T11:00:27.063437",
     "exception": false,
     "start_time": "2025-01-18T11:00:27.050212",
     "status": "completed"
    },
    "tags": []
   },
   "outputs": [],
   "source": [
    "# Step 2: Preprocess Signal\n",
    "def preprocess_signal(signal):    \n",
    "    # Subtract the mean to remove the DC component\n",
    "    signal = signal - np.mean(signal)\n",
    "    \n",
    "    # Normalize the signal between -1 and 1\n",
    "    signal_min, signal_max = np.min(signal), np.max(signal)\n",
    "    normalized_signal = 2 * (signal - signal_min) / (signal_max - signal_min) - 1\n",
    "    return normalized_signal"
   ]
  },
  {
   "cell_type": "markdown",
   "id": "044c7c81",
   "metadata": {
    "papermill": {
     "duration": 0.004332,
     "end_time": "2025-01-18T11:00:27.073169",
     "exception": false,
     "start_time": "2025-01-18T11:00:27.068837",
     "status": "completed"
    },
    "tags": []
   },
   "source": [
    "## Step 3: Apply Filters\n",
    "\n",
    "The function `butter_lowpass` designs a **low-pass Butterworth filter**:\n",
    "\n",
    "1. **Parameters**:\n",
    "   - `cutoff`: The cutoff frequency, above which frequencies are attenuated.\n",
    "   - `fs`: The sampling frequency of the signal.\n",
    "   - `order`: The order of the filter, affecting the steepness of the cutoff.\n",
    "\n",
    "2. **Calculation**:\n",
    "   - The Nyquist frequency is calculated as half of the sampling frequency.\n",
    "   - The cutoff frequency is normalized by dividing it by the Nyquist frequency.\n",
    "   - The `butter` function from `scipy.signal` is used to generate the filter coefficients (`b`, `a`).\n",
    "     - **Analog=False** specifies that the filter is a **digital filter**, meaning it will be applied to discrete-time signals (sampled data). If set to `True`, it would design an **analog filter** for continuous-time signals.\n",
    "\n",
    "\n",
    "The `apply_filter()` function applies the low-pass filter to the given signal.\n",
    "\n",
    "- It first calls the `butter_lowpass()` function to get the filter coefficients (`b` and `a`).\n",
    "- The `lfilter()` function then applies the filter to the signal using the calculated coefficients. This step is where the signal is actually filtered based on the cutoff frequency and filter order.\n",
    "\n",
    "The result is a **filtered signal** that has had higher frequency noise (above the cutoff) attenuated/removed, leaving only the desired low-frequency components."
   ]
  },
  {
   "cell_type": "code",
   "execution_count": 7,
   "id": "312b890d",
   "metadata": {
    "execution": {
     "iopub.execute_input": "2025-01-18T11:00:27.083895Z",
     "iopub.status.busy": "2025-01-18T11:00:27.083474Z",
     "iopub.status.idle": "2025-01-18T11:00:27.088510Z",
     "shell.execute_reply": "2025-01-18T11:00:27.087479Z"
    },
    "papermill": {
     "duration": 0.012525,
     "end_time": "2025-01-18T11:00:27.090265",
     "exception": false,
     "start_time": "2025-01-18T11:00:27.077740",
     "status": "completed"
    },
    "tags": []
   },
   "outputs": [],
   "source": [
    "# Step 3: Apply Filters\n",
    "def butter_lowpass(cutoff, fs, order=5):\n",
    "    nyquist = 0.5 * fs\n",
    "    normal_cutoff = cutoff / nyquist\n",
    "    b, a = butter(order, normal_cutoff, btype='low', analog=False)\n",
    "    return b, a"
   ]
  },
  {
   "cell_type": "code",
   "execution_count": 8,
   "id": "cb504a1d",
   "metadata": {
    "execution": {
     "iopub.execute_input": "2025-01-18T11:00:27.101595Z",
     "iopub.status.busy": "2025-01-18T11:00:27.101140Z",
     "iopub.status.idle": "2025-01-18T11:00:27.106042Z",
     "shell.execute_reply": "2025-01-18T11:00:27.104996Z"
    },
    "papermill": {
     "duration": 0.012848,
     "end_time": "2025-01-18T11:00:27.108049",
     "exception": false,
     "start_time": "2025-01-18T11:00:27.095201",
     "status": "completed"
    },
    "tags": []
   },
   "outputs": [],
   "source": [
    "def apply_filter(signal, cutoff, fs, order=5):\n",
    "    b, a = butter_lowpass(cutoff, fs, order)\n",
    "    filtered_signal = lfilter(b, a, signal)\n",
    "    return filtered_signal"
   ]
  },
  {
   "cell_type": "markdown",
   "id": "a0b55e47",
   "metadata": {
    "papermill": {
     "duration": 0.004587,
     "end_time": "2025-01-18T11:00:27.117856",
     "exception": false,
     "start_time": "2025-01-18T11:00:27.113269",
     "status": "completed"
    },
    "tags": []
   },
   "source": [
    "## Step 4: Analyze Signal (FFT)\n",
    "\n",
    "The `analyze_signal()` function performs a Fast Fourier Transform (FFT) on the given signal to analyze its frequency content.\n",
    "\n",
    "- `np.fft.rfftfreq(n, 1/fs)` computes the frequencies corresponding to the FFT results, where `n` is the number of samples and `fs` is the sampling frequency.\n",
    "- `np.fft.rfft(signal)` computes the one-dimensional n-point FFT for real input, which is more efficient for real-valued signals.\n",
    "- The magnitude of the FFT is computed using `np.abs()` to convert the complex numbers to their magnitudes.\n",
    "\n",
    "The function returns:\n",
    "- `f`: The array of frequency values (in Hz).\n",
    "- `fft_magnitude`: The corresponding magnitudes of the frequency components, representing the signal's power at different frequencies.\n"
   ]
  },
  {
   "cell_type": "code",
   "execution_count": 9,
   "id": "c38d782e",
   "metadata": {
    "execution": {
     "iopub.execute_input": "2025-01-18T11:00:27.129132Z",
     "iopub.status.busy": "2025-01-18T11:00:27.128742Z",
     "iopub.status.idle": "2025-01-18T11:00:27.134390Z",
     "shell.execute_reply": "2025-01-18T11:00:27.133184Z"
    },
    "papermill": {
     "duration": 0.013754,
     "end_time": "2025-01-18T11:00:27.136476",
     "exception": false,
     "start_time": "2025-01-18T11:00:27.122722",
     "status": "completed"
    },
    "tags": []
   },
   "outputs": [],
   "source": [
    "# Step 4: Analyze Signal (FFT)\n",
    "def analyze_signal(signal, fs):\n",
    "    n = len(signal)\n",
    "    f = np.fft.rfftfreq(n, 1/fs)\n",
    "    fft_magnitude = np.abs(np.fft.rfft(signal))\n",
    "    return f, fft_magnitude"
   ]
  },
  {
   "cell_type": "markdown",
   "id": "f8f4d4d1",
   "metadata": {
    "papermill": {
     "duration": 0.004371,
     "end_time": "2025-01-18T11:00:27.146262",
     "exception": false,
     "start_time": "2025-01-18T11:00:27.141891",
     "status": "completed"
    },
    "tags": []
   },
   "source": [
    "### Step 5: Visualize and Save Results\n",
    "\n",
    "In this step, the original signal, the processed (filtered) signal, and the frequency spectrum (FFT magnitude) are visualized in three subplots. The results help to understand the signal's behavior in both the time and frequency domains. Here's a brief explanation:\n",
    "\n",
    "1. **Original Signal Plot**:\n",
    "   - This subplot shows the signal as it was loaded from the data source, before any preprocessing or filtering.\n",
    "   - It helps in understanding the raw signal and any noise or patterns it may contain.\n",
    "\n",
    "2. **Filtered Signal Plot**:\n",
    "   - This subplot shows the signal after it has been processed (e.g., after filtering).\n",
    "   - By comparing this plot with the original signal, you can visually assess how the filter has affected the signal, such as removing noise or smoothing out the signal.\n",
    "\n",
    "3. **Frequency Spectrum (FFT Magnitude)**:\n",
    "   - This subplot displays the frequency content of the signal.\n",
    "   - It shows how the energy is distributed across different frequencies. Peaks in the plot represent dominant frequency components.\n",
    "\n",
    "The `plt.tight_layout()` ensures that the subplots are neatly spaced. Optionally, the plot can be saved using `plt.savefig()` if desired.\n",
    "\n",
    "\n",
    "This visualization gives a complete view of the signal's transformation from raw data to the processed version and its frequency content."
   ]
  },
  {
   "cell_type": "code",
   "execution_count": 10,
   "id": "eb8e8dc8",
   "metadata": {
    "execution": {
     "iopub.execute_input": "2025-01-18T11:00:27.156998Z",
     "iopub.status.busy": "2025-01-18T11:00:27.156560Z",
     "iopub.status.idle": "2025-01-18T11:00:27.163511Z",
     "shell.execute_reply": "2025-01-18T11:00:27.162406Z"
    },
    "papermill": {
     "duration": 0.01443,
     "end_time": "2025-01-18T11:00:27.165241",
     "exception": false,
     "start_time": "2025-01-18T11:00:27.150811",
     "status": "completed"
    },
    "tags": []
   },
   "outputs": [],
   "source": [
    "# Step 5: Visualize and Save Results\n",
    "def visualize_signal(original_signal, processed_signal, fft_freq, fft_magnitude, fs):\n",
    "    plt.figure(figsize=(12, 8))\n",
    "\n",
    "    # Original Signal\n",
    "    plt.subplot(3, 1, 1)\n",
    "    plt.plot(original_signal)\n",
    "    plt.title(\"Original Signal\")\n",
    "    plt.xlabel(\"Time (samples)\")\n",
    "    plt.ylabel(\"Amplitude\")\n",
    "\n",
    "    # Filtered Signal\n",
    "    plt.subplot(3, 1, 2)\n",
    "    plt.plot(processed_signal, color='orange')\n",
    "    plt.title(\"Filtered Signal\")\n",
    "    plt.xlabel(\"Time (samples)\")\n",
    "    plt.ylabel(\"Amplitude\")\n",
    "\n",
    "    # FFT Magnitude\n",
    "    plt.subplot(3, 1, 3)\n",
    "    plt.plot(fft_freq, fft_magnitude, color='green')\n",
    "    plt.title(\"Frequency Spectrum\")\n",
    "    plt.xlabel(\"Frequency (Hz)\")\n",
    "    plt.ylabel(\"Magnitude\")\n",
    "\n",
    "    # Apply logarithmic scale if needed to y-axis for better visualization\n",
    "    plt.yscale('log')\n",
    "\n",
    "    # Set frequency limit if necessary (example: show only up to 100 Hz)\n",
    "    plt.xlim(0, 100)  # Adjust the limit based on your data\n",
    "\n",
    "    plt.tight_layout()\n",
    "    plt.show()"
   ]
  },
  {
   "cell_type": "markdown",
   "id": "b5c632c6",
   "metadata": {
    "papermill": {
     "duration": 0.004484,
     "end_time": "2025-01-18T11:00:27.174508",
     "exception": false,
     "start_time": "2025-01-18T11:00:27.170024",
     "status": "completed"
    },
    "tags": []
   },
   "source": [
    "# Main Pipeline Execution\n",
    "\n",
    "This section executes the entire automated signal processing pipeline. The script performs the automated steps:\n",
    "\n",
    "1. **Load Signal Data**: \n",
    "   The signal data is loaded from the specified dataset path and column using the `load_signal()` function. The `dataset_path` and `column_to_process` specify the data source and the specific sensor reading (e.g., humidity or motion sensor data).\n",
    "\n",
    "2. **Preprocess the Signal**: \n",
    "   The signal is preprocessed by removing the DC component (mean) and normalizing the signal to a range between -1 and 1 using the `preprocess_signal()` function.\n",
    "\n",
    "3. **Apply a Low-Pass Filter**: \n",
    "   A low-pass filter is applied to the preprocessed signal using the `apply_filter()` function. The cutoff frequency is set to 50 Hz, and the sampling rate is 1000 Hz. This step is intended to remove high-frequency noise from the signal.\n",
    "\n",
    "4. **Analyze the Signal using FFT**: \n",
    "   The filtered signal is analyzed using the Fast Fourier Transform (FFT) to obtain the frequency spectrum. This is done using the `analyze_signal()` function, which returns the frequency bins and the corresponding magnitudes.\n",
    "\n",
    "5. **Visualize Results**: \n",
    "   The original signal, filtered signal, and frequency spectrum are visualized using the `visualize_signal()` function. The plots help to compare the raw signal with the processed signal and observe the frequency content of the signal.\n",
    "\n",
    "The script serves as an end-to-end solution for loading, preprocessing, filtering, analyzing, and visualizing time-series sensor data, such as environmental or motion sensor data."
   ]
  },
  {
   "cell_type": "code",
   "execution_count": 11,
   "id": "e1cfa2f3",
   "metadata": {
    "execution": {
     "iopub.execute_input": "2025-01-18T11:00:27.184998Z",
     "iopub.status.busy": "2025-01-18T11:00:27.184640Z",
     "iopub.status.idle": "2025-01-18T11:00:30.695267Z",
     "shell.execute_reply": "2025-01-18T11:00:30.693941Z"
    },
    "papermill": {
     "duration": 3.518169,
     "end_time": "2025-01-18T11:00:30.697241",
     "exception": false,
     "start_time": "2025-01-18T11:00:27.179072",
     "status": "completed"
    },
    "tags": []
   },
   "outputs": [
    {
     "data": {
      "image/png": "[encoded data removed]",
      "text/plain": [
       "<Figure size 1200x800 with 3 Axes>"
      ]
     },
     "metadata": {},
     "output_type": "display_data"
    }
   ],
   "source": [
    "# Main Pipeline Execution\n",
    "if __name__ == \"__main__\":\n",
    "    # Load signal data\n",
    "    signal = load_signal(dataset_path, column_to_process)\n",
    "\n",
    "    # Preprocess the signal\n",
    "    normalized_signal = preprocess_signal(signal)\n",
    "\n",
    "    # Apply a low-pass filter\n",
    "    cutoff_freq = 50  # Hz\n",
    "    sampling_rate = 1000  # Hz\n",
    "    filtered_signal = apply_filter(normalized_signal, cutoff_freq, sampling_rate)\n",
    "\n",
    "    # Analyze the signal using FFT\n",
    "    fft_freq, fft_magnitude = analyze_signal(filtered_signal, sampling_rate)\n",
    "\n",
    "    # Visualize results\n",
    "    visualize_signal(signal, filtered_signal, fft_freq, fft_magnitude, sampling_rate)\n"
   ]
  },
  {
   "cell_type": "code",
   "execution_count": null,
   "id": "de090e72",
   "metadata": {
    "papermill": {
     "duration": 0.006502,
     "end_time": "2025-01-18T11:00:30.710898",
     "exception": false,
     "start_time": "2025-01-18T11:00:30.704396",
     "status": "completed"
    },
    "tags": []
   },
   "outputs": [],
   "source": []
  }
 ],
 "metadata": {
  "kaggle": {
   "accelerator": "none",
   "dataSources": [
    {
     "datasetId": 16752,
     "sourceId": 22073,
     "sourceType": "datasetVersion"
    },
    {
     "datasetId": 788816,
     "sourceId": 1355729,
     "sourceType": "datasetVersion"
    }
   ],
   "dockerImageVersionId": 30839,
   "isGpuEnabled": false,
   "isInternetEnabled": false,
   "language": "python",
   "sourceType": "notebook"
  },
  "kernelspec": {
   "display_name": "Python 3",
   "language": "python",
   "name": "python3"
  },
  "language_info": {
   "codemirror_mode": {
    "name": "ipython",
    "version": 3
   },
   "file_extension": ".py",
   "mimetype": "text/x-python",
   "name": "python",
   "nbconvert_exporter": "python",
   "pygments_lexer": "ipython3",
   "version": "3.10.12"
  },
  "papermill": {
   "default_parameters": {},
   "duration": 9.966661,
   "end_time": "2025-01-18T11:00:31.440411",
   "environment_variables": {},
   "exception": null,
   "input_path": "__notebook__.ipynb",
   "output_path": "__notebook__.ipynb",
   "parameters": {},
   "start_time": "2025-01-18T11:00:21.473750",
   "version": "2.6.0"
  }
 },
 "nbformat": 4,
 "nbformat_minor": 5
}
